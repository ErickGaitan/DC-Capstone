{
 "cells": [
  {
   "cell_type": "markdown",
   "metadata": {},
   "source": [
    "# House Price Prediction in Bangalore, India"
   ]
  },
  {
   "cell_type": "code",
   "execution_count": 1,
   "metadata": {
    "scrolled": true
   },
   "outputs": [
    {
     "name": "stdout",
     "output_type": "stream",
     "text": [
      "Solving environment: done\n",
      "\n",
      "## Package Plan ##\n",
      "\n",
      "  environment location: /opt/conda/envs/Python36\n",
      "\n",
      "  added / updated specs: \n",
      "    - folium=0.5.0\n",
      "\n",
      "\n",
      "The following packages will be downloaded:\n",
      "\n",
      "    package                    |            build\n",
      "    ---------------------------|-----------------\n",
      "    altair-4.1.0               |             py_1         614 KB  conda-forge\n",
      "    branca-0.4.0               |             py_0          26 KB  conda-forge\n",
      "    openssl-1.1.1f             |       h516909a_0         2.1 MB  conda-forge\n",
      "    certifi-2020.4.5.1         |   py36h9f0ad1d_0         151 KB  conda-forge\n",
      "    vincent-0.4.4              |             py_1          28 KB  conda-forge\n",
      "    ca-certificates-2020.4.5.1 |       hecc5488_0         146 KB  conda-forge\n",
      "    python_abi-3.6             |          1_cp36m           4 KB  conda-forge\n",
      "    folium-0.5.0               |             py_0          45 KB  conda-forge\n",
      "    ------------------------------------------------------------\n",
      "                                           Total:         3.1 MB\n",
      "\n",
      "The following NEW packages will be INSTALLED:\n",
      "\n",
      "    altair:          4.1.0-py_1        conda-forge\n",
      "    branca:          0.4.0-py_0        conda-forge\n",
      "    folium:          0.5.0-py_0        conda-forge\n",
      "    python_abi:      3.6-1_cp36m       conda-forge\n",
      "    vincent:         0.4.4-py_1        conda-forge\n",
      "\n",
      "The following packages will be UPDATED:\n",
      "\n",
      "    ca-certificates: 2020.1.1-0                    --> 2020.4.5.1-hecc5488_0     conda-forge\n",
      "    certifi:         2020.4.5.1-py36_0             --> 2020.4.5.1-py36h9f0ad1d_0 conda-forge\n",
      "    openssl:         1.1.1f-h7b6447c_0             --> 1.1.1f-h516909a_0         conda-forge\n",
      "\n",
      "\n",
      "Downloading and Extracting Packages\n",
      "altair-4.1.0         | 614 KB    | ##################################### | 100% \n",
      "branca-0.4.0         | 26 KB     | ##################################### | 100% \n",
      "openssl-1.1.1f       | 2.1 MB    | ##################################### | 100% \n",
      "certifi-2020.4.5.1   | 151 KB    | ##################################### | 100% \n",
      "vincent-0.4.4        | 28 KB     | ##################################### | 100% \n",
      "ca-certificates-2020 | 146 KB    | ##################################### | 100% \n",
      "python_abi-3.6       | 4 KB      | ##################################### | 100% \n",
      "folium-0.5.0         | 45 KB     | ##################################### | 100% \n",
      "Preparing transaction: done\n",
      "Verifying transaction: done\n",
      "Executing transaction: done\n",
      "Collecting geocoder\n",
      "\u001b[?25l  Downloading https://files.pythonhosted.org/packages/4f/6b/13166c909ad2f2d76b929a4227c952630ebaf0d729f6317eb09cbceccbab/geocoder-1.38.1-py2.py3-none-any.whl (98kB)\n",
      "\u001b[K     |████████████████████████████████| 102kB 16.4MB/s ta 0:00:01\n",
      "\u001b[?25hCollecting ratelim (from geocoder)\n",
      "  Downloading https://files.pythonhosted.org/packages/f2/98/7e6d147fd16a10a5f821db6e25f192265d6ecca3d82957a4fdd592cad49c/ratelim-0.1.6-py2.py3-none-any.whl\n",
      "Requirement already satisfied: click in /opt/conda/envs/Python36/lib/python3.6/site-packages (from geocoder) (7.0)\n",
      "Requirement already satisfied: six in /opt/conda/envs/Python36/lib/python3.6/site-packages (from geocoder) (1.12.0)\n",
      "Requirement already satisfied: requests in /opt/conda/envs/Python36/lib/python3.6/site-packages (from geocoder) (2.21.0)\n",
      "Requirement already satisfied: future in /opt/conda/envs/Python36/lib/python3.6/site-packages (from geocoder) (0.17.1)\n",
      "Requirement already satisfied: decorator in /opt/conda/envs/Python36/lib/python3.6/site-packages (from ratelim->geocoder) (4.3.2)\n",
      "Requirement already satisfied: idna<2.9,>=2.5 in /opt/conda/envs/Python36/lib/python3.6/site-packages (from requests->geocoder) (2.8)\n",
      "Requirement already satisfied: urllib3<1.25,>=1.21.1 in /opt/conda/envs/Python36/lib/python3.6/site-packages (from requests->geocoder) (1.24.1)\n",
      "Requirement already satisfied: chardet<3.1.0,>=3.0.2 in /opt/conda/envs/Python36/lib/python3.6/site-packages (from requests->geocoder) (3.0.4)\n",
      "Requirement already satisfied: certifi>=2017.4.17 in /opt/conda/envs/Python36/lib/python3.6/site-packages (from requests->geocoder) (2020.4.5.1)\n",
      "Installing collected packages: ratelim, geocoder\n",
      "Successfully installed geocoder-1.38.1 ratelim-0.1.6\n",
      "Solving environment: done\n",
      "\n",
      "## Package Plan ##\n",
      "\n",
      "  environment location: /opt/conda/envs/Python36\n",
      "\n",
      "  added / updated specs: \n",
      "    - geopy\n",
      "\n",
      "\n",
      "The following packages will be downloaded:\n",
      "\n",
      "    package                    |            build\n",
      "    ---------------------------|-----------------\n",
      "    geopy-1.21.0               |             py_0          58 KB  conda-forge\n",
      "    geographiclib-1.50         |             py_0          34 KB  conda-forge\n",
      "    ------------------------------------------------------------\n",
      "                                           Total:          92 KB\n",
      "\n",
      "The following NEW packages will be INSTALLED:\n",
      "\n",
      "    geographiclib: 1.50-py_0   conda-forge\n",
      "    geopy:         1.21.0-py_0 conda-forge\n",
      "\n",
      "\n",
      "Downloading and Extracting Packages\n",
      "geopy-1.21.0         | 58 KB     | ##################################### | 100% \n",
      "geographiclib-1.50   | 34 KB     | ##################################### | 100% \n",
      "Preparing transaction: done\n",
      "Verifying transaction: done\n",
      "Executing transaction: done\n",
      "Requirement already satisfied: category_encoders in /opt/conda/envs/Python36/lib/python3.6/site-packages (2.0.0)\n",
      "Requirement already satisfied: scikit-learn>=0.20.0 in /opt/conda/envs/Python36/lib/python3.6/site-packages (from category_encoders) (0.20.3)\n",
      "Requirement already satisfied: numpy>=1.11.3 in /opt/conda/envs/Python36/lib/python3.6/site-packages (from category_encoders) (1.15.4)\n",
      "Requirement already satisfied: pandas>=0.21.1 in /opt/conda/envs/Python36/lib/python3.6/site-packages (from category_encoders) (0.24.1)\n",
      "Requirement already satisfied: statsmodels>=0.6.1 in /opt/conda/envs/Python36/lib/python3.6/site-packages (from category_encoders) (0.9.0)\n",
      "Requirement already satisfied: scipy>=0.19.0 in /opt/conda/envs/Python36/lib/python3.6/site-packages (from category_encoders) (1.2.0)\n",
      "Requirement already satisfied: patsy>=0.4.1 in /opt/conda/envs/Python36/lib/python3.6/site-packages (from category_encoders) (0.5.1)\n",
      "Requirement already satisfied: pytz>=2011k in /opt/conda/envs/Python36/lib/python3.6/site-packages (from pandas>=0.21.1->category_encoders) (2018.9)\n",
      "Requirement already satisfied: python-dateutil>=2.5.0 in /opt/conda/envs/Python36/lib/python3.6/site-packages (from pandas>=0.21.1->category_encoders) (2.7.5)\n",
      "Requirement already satisfied: six in /opt/conda/envs/Python36/lib/python3.6/site-packages (from patsy>=0.4.1->category_encoders) (1.12.0)\n",
      "Collecting xgboost\n",
      "\u001b[?25l  Downloading https://files.pythonhosted.org/packages/70/91/551d37ba472bcbd70a25e667acc65a18a9d053657b13afcf0f87aa24d7bb/xgboost-1.0.2-py3-none-manylinux1_x86_64.whl (109.7MB)\n",
      "\u001b[K     |████████████████████████████████| 109.8MB 50.9MB/s eta 0:00:01�████       | 85.5MB 48.8MB/s eta 0:00:01\n",
      "\u001b[?25hRequirement already satisfied: scipy in /opt/conda/envs/Python36/lib/python3.6/site-packages (from xgboost) (1.2.0)\n",
      "Requirement already satisfied: numpy in /opt/conda/envs/Python36/lib/python3.6/site-packages (from xgboost) (1.15.4)\n",
      "Installing collected packages: xgboost\n",
      "Successfully installed xgboost-1.0.2\n"
     ]
    }
   ],
   "source": [
    "import pandas as pd\n",
    "import numpy as np\n",
    "\n",
    "from pandas.io.json import json_normalize\n",
    "\n",
    "!conda install -c conda-forge folium=0.5.0 --yes\n",
    "import folium \n",
    "\n",
    "!pip install geocoder\n",
    "import geocoder\n",
    "\n",
    "import requests\n",
    "\n",
    "!conda install -c conda-forge geopy --yes \n",
    "from geopy.geocoders import Nominatim\n",
    "\n",
    "from matplotlib import pyplot as plt\n",
    "%matplotlib inline\n",
    "\n",
    "import seaborn as sns\n",
    "\n",
    "from sklearn.preprocessing import LabelEncoder\n",
    "\n",
    "from sklearn.model_selection import train_test_split\n",
    "\n",
    "!pip install category_encoders\n",
    "import category_encoders as ce\n",
    "\n",
    "from sklearn.metrics import r2_score\n",
    "\n",
    "from sklearn.ensemble import RandomForestRegressor\n",
    "\n",
    "!pip install xgboost\n",
    "from xgboost import XGBRegressor\n",
    "\n",
    "from sklearn.ensemble import GradientBoostingRegressor\n",
    "\n",
    "from sklearn.linear_model import Lasso, Ridge"
   ]
  },
  {
   "cell_type": "code",
   "execution_count": 2,
   "metadata": {},
   "outputs": [],
   "source": [
    "# Foursquare Credentials \n",
    "client_id = '0GE21IKRH3FZODF1RNWDMLN1LUFENFD0EAYCZ3VXT4V4OMAE'\n",
    "client_secret = '0EO1LG0JP10J3CN5HYFDCCZM3ACMDXPZWPBY1WXQBIQZHXAI'\n",
    "version = '20201604'\n",
    "limit = 100"
   ]
  },
  {
   "cell_type": "code",
   "execution_count": 3,
   "metadata": {},
   "outputs": [
    {
     "name": "stdout",
     "output_type": "stream",
     "text": [
      "Banglore, India coordinates: 18.0056901 , 79.5715088\n"
     ]
    }
   ],
   "source": [
    "# Get Banglore coordinates\n",
    "address = \"Banglore, India\"\n",
    "\n",
    "geolocator = Nominatim(user_agent=\"e_tgg\")\n",
    "location = geolocator.geocode(address)\n",
    "latitude = location.latitude\n",
    "longitude = location.longitude\n",
    "\n",
    "print(address, \"coordinates:\", latitude, \",\", longitude)"
   ]
  },
  {
   "cell_type": "code",
   "execution_count": 4,
   "metadata": {},
   "outputs": [],
   "source": [
    "radius = 500"
   ]
  },
  {
   "cell_type": "code",
   "execution_count": 5,
   "metadata": {},
   "outputs": [
    {
     "data": {
      "text/plain": [
       "'https://api.foursquare.com/v2/venues/explore?client_id=0GE21IKRH3FZODF1RNWDMLN1LUFENFD0EAYCZ3VXT4V4OMAE&client_secret=0EO1LG0JP10J3CN5HYFDCCZM3ACMDXPZWPBY1WXQBIQZHXAI&ll=18.0056901,79.5715088&v=20201604&radius=500&limit=100'"
      ]
     },
     "execution_count": 5,
     "metadata": {},
     "output_type": "execute_result"
    }
   ],
   "source": [
    "# Define URL\n",
    "url = 'https://api.foursquare.com/v2/venues/explore?client_id={}&client_secret={}&ll={},{}&v={}&radius={}&limit={}'.format(\n",
    "    client_id, \n",
    "    client_secret, \n",
    "    latitude, \n",
    "    longitude, \n",
    "    version, \n",
    "    radius, \n",
    "    limit)\n",
    "url"
   ]
  },
  {
   "cell_type": "code",
   "execution_count": 6,
   "metadata": {
    "scrolled": true
   },
   "outputs": [
    {
     "data": {
      "text/plain": [
       "{'meta': {'code': 200, 'requestId': '5e9a967b71c428001b068011'},\n",
       " 'response': {'headerLocation': 'Warangal',\n",
       "  'headerFullLocation': 'Warangal',\n",
       "  'headerLocationGranularity': 'city',\n",
       "  'totalResults': 4,\n",
       "  'suggestedBounds': {'ne': {'lat': 18.010190104500005,\n",
       "    'lng': 79.57623170275289},\n",
       "   'sw': {'lat': 18.001190095499993, 'lng': 79.56678589724712}},\n",
       "  'groups': [{'type': 'Recommended Places',\n",
       "    'name': 'recommended',\n",
       "    'items': [{'reasons': {'count': 0,\n",
       "       'items': [{'summary': 'This spot is popular',\n",
       "         'type': 'general',\n",
       "         'reasonName': 'globalInteractionReason'}]},\n",
       "      'venue': {'id': '4ea279897ee52a35dce92bf9',\n",
       "       'name': 'Thousand Pillar Temple',\n",
       "       'location': {'lat': 18.00426345496528,\n",
       "        'lng': 79.57485226131779,\n",
       "        'labeledLatLngs': [{'label': 'display',\n",
       "          'lat': 18.00426345496528,\n",
       "          'lng': 79.57485226131779}],\n",
       "        'distance': 387,\n",
       "        'cc': 'IN',\n",
       "        'city': 'Hanamkonda',\n",
       "        'state': 'Telangana',\n",
       "        'country': 'India',\n",
       "        'formattedAddress': ['Hanamkonda', 'Telangana', 'India']},\n",
       "       'categories': [{'id': '4deefb944765f83613cdba6e',\n",
       "         'name': 'Historic Site',\n",
       "         'pluralName': 'Historic Sites',\n",
       "         'shortName': 'Historic Site',\n",
       "         'icon': {'prefix': 'https://ss3.4sqi.net/img/categories_v2/arts_entertainment/historicsite_',\n",
       "          'suffix': '.png'},\n",
       "         'primary': True}],\n",
       "       'photos': {'count': 0, 'groups': []}},\n",
       "      'referralId': 'e-0-4ea279897ee52a35dce92bf9-0'},\n",
       "     {'reasons': {'count': 0,\n",
       "       'items': [{'summary': 'This spot is popular',\n",
       "         'type': 'general',\n",
       "         'reasonName': 'globalInteractionReason'}]},\n",
       "      'venue': {'id': '4e83407c5c5c4705b5b2470f',\n",
       "       'name': 'Sri Tirumala icecream parlour',\n",
       "       'location': {'address': 'hanamkonda chowrastha',\n",
       "        'lat': 18.006116881366037,\n",
       "        'lng': 79.57095939296023,\n",
       "        'labeledLatLngs': [{'label': 'display',\n",
       "          'lat': 18.006116881366037,\n",
       "          'lng': 79.57095939296023}],\n",
       "        'distance': 75,\n",
       "        'cc': 'IN',\n",
       "        'city': 'wgl',\n",
       "        'state': 'Andhra Pradesh',\n",
       "        'country': 'India',\n",
       "        'formattedAddress': ['hanamkonda chowrastha',\n",
       "         'wgl',\n",
       "         'Andhra Pradesh',\n",
       "         'India']},\n",
       "       'categories': [{'id': '4bf58dd8d48988d1c9941735',\n",
       "         'name': 'Ice Cream Shop',\n",
       "         'pluralName': 'Ice Cream Shops',\n",
       "         'shortName': 'Ice Cream',\n",
       "         'icon': {'prefix': 'https://ss3.4sqi.net/img/categories_v2/food/icecream_',\n",
       "          'suffix': '.png'},\n",
       "         'primary': True}],\n",
       "       'photos': {'count': 0, 'groups': []}},\n",
       "      'referralId': 'e-0-4e83407c5c5c4705b5b2470f-1'},\n",
       "     {'reasons': {'count': 0,\n",
       "       'items': [{'summary': 'This spot is popular',\n",
       "         'type': 'general',\n",
       "         'reasonName': 'globalInteractionReason'}]},\n",
       "      'venue': {'id': '4f379968e4b0ea2d7e0f4710',\n",
       "       'name': 'Sri Geeta Bhavan',\n",
       "       'location': {'address': 'Hanamkonda Chowrasta',\n",
       "        'lat': 18.00629095539342,\n",
       "        'lng': 79.57049298840695,\n",
       "        'labeledLatLngs': [{'label': 'display',\n",
       "          'lat': 18.00629095539342,\n",
       "          'lng': 79.57049298840695}],\n",
       "        'distance': 126,\n",
       "        'cc': 'IN',\n",
       "        'city': 'Hanamkonda',\n",
       "        'state': 'Telangana',\n",
       "        'country': 'India',\n",
       "        'formattedAddress': ['Hanamkonda Chowrasta',\n",
       "         'Hanamkonda',\n",
       "         'Telangana',\n",
       "         'India']},\n",
       "       'categories': [{'id': '4bf58dd8d48988d1c4941735',\n",
       "         'name': 'Restaurant',\n",
       "         'pluralName': 'Restaurants',\n",
       "         'shortName': 'Restaurant',\n",
       "         'icon': {'prefix': 'https://ss3.4sqi.net/img/categories_v2/food/default_',\n",
       "          'suffix': '.png'},\n",
       "         'primary': True}],\n",
       "       'photos': {'count': 0, 'groups': []}},\n",
       "      'referralId': 'e-0-4f379968e4b0ea2d7e0f4710-2'},\n",
       "     {'reasons': {'count': 0,\n",
       "       'items': [{'summary': 'This spot is popular',\n",
       "         'type': 'general',\n",
       "         'reasonName': 'globalInteractionReason'}]},\n",
       "      'venue': {'id': '4ef882000e61a0846e4cedeb',\n",
       "       'name': 'KR & MS reddy complex.',\n",
       "       'location': {'address': 'Hanamkonda',\n",
       "        'lat': 18.004578294621023,\n",
       "        'lng': 79.57024058023791,\n",
       "        'labeledLatLngs': [{'label': 'display',\n",
       "          'lat': 18.004578294621023,\n",
       "          'lng': 79.57024058023791}],\n",
       "        'distance': 182,\n",
       "        'cc': 'IN',\n",
       "        'city': 'Warangal',\n",
       "        'state': 'Telangana',\n",
       "        'country': 'India',\n",
       "        'formattedAddress': ['Hanamkonda', 'Warangal', 'Telangana', 'India']},\n",
       "       'categories': [{'id': '4bf58dd8d48988d1fd941735',\n",
       "         'name': 'Shopping Mall',\n",
       "         'pluralName': 'Shopping Malls',\n",
       "         'shortName': 'Mall',\n",
       "         'icon': {'prefix': 'https://ss3.4sqi.net/img/categories_v2/shops/mall_',\n",
       "          'suffix': '.png'},\n",
       "         'primary': True}],\n",
       "       'photos': {'count': 0, 'groups': []}},\n",
       "      'referralId': 'e-0-4ef882000e61a0846e4cedeb-3'}]}]}}"
      ]
     },
     "execution_count": 6,
     "metadata": {},
     "output_type": "execute_result"
    }
   ],
   "source": [
    "results = requests.get(url).json()\n",
    "results"
   ]
  },
  {
   "cell_type": "code",
   "execution_count": 7,
   "metadata": {},
   "outputs": [
    {
     "data": {
      "text/plain": [
       "{'reasons': {'count': 0,\n",
       "  'items': [{'summary': 'This spot is popular',\n",
       "    'type': 'general',\n",
       "    'reasonName': 'globalInteractionReason'}]},\n",
       " 'venue': {'id': '4ea279897ee52a35dce92bf9',\n",
       "  'name': 'Thousand Pillar Temple',\n",
       "  'location': {'lat': 18.00426345496528,\n",
       "   'lng': 79.57485226131779,\n",
       "   'labeledLatLngs': [{'label': 'display',\n",
       "     'lat': 18.00426345496528,\n",
       "     'lng': 79.57485226131779}],\n",
       "   'distance': 387,\n",
       "   'cc': 'IN',\n",
       "   'city': 'Hanamkonda',\n",
       "   'state': 'Telangana',\n",
       "   'country': 'India',\n",
       "   'formattedAddress': ['Hanamkonda', 'Telangana', 'India']},\n",
       "  'categories': [{'id': '4deefb944765f83613cdba6e',\n",
       "    'name': 'Historic Site',\n",
       "    'pluralName': 'Historic Sites',\n",
       "    'shortName': 'Historic Site',\n",
       "    'icon': {'prefix': 'https://ss3.4sqi.net/img/categories_v2/arts_entertainment/historicsite_',\n",
       "     'suffix': '.png'},\n",
       "    'primary': True}],\n",
       "  'photos': {'count': 0, 'groups': []}},\n",
       " 'referralId': 'e-0-4ea279897ee52a35dce92bf9-0'}"
      ]
     },
     "execution_count": 7,
     "metadata": {},
     "output_type": "execute_result"
    }
   ],
   "source": [
    "items = results['response']['groups'][0]['items']\n",
    "items[0]"
   ]
  },
  {
   "cell_type": "code",
   "execution_count": 8,
   "metadata": {},
   "outputs": [],
   "source": [
    "def get_category_type(row):\n",
    "    try:\n",
    "        categories_list = row['categories']\n",
    "    except:\n",
    "        categories_list = row['venue.categories']\n",
    "        \n",
    "    if len(categories_list) == 0:\n",
    "        return None\n",
    "    else:\n",
    "        return categories_list[0]['name']"
   ]
  },
  {
   "cell_type": "code",
   "execution_count": 9,
   "metadata": {},
   "outputs": [
    {
     "data": {
      "text/html": [
       "<div>\n",
       "<style scoped>\n",
       "    .dataframe tbody tr th:only-of-type {\n",
       "        vertical-align: middle;\n",
       "    }\n",
       "\n",
       "    .dataframe tbody tr th {\n",
       "        vertical-align: top;\n",
       "    }\n",
       "\n",
       "    .dataframe thead th {\n",
       "        text-align: right;\n",
       "    }\n",
       "</style>\n",
       "<table border=\"1\" class=\"dataframe\">\n",
       "  <thead>\n",
       "    <tr style=\"text-align: right;\">\n",
       "      <th></th>\n",
       "      <th>name</th>\n",
       "      <th>categories</th>\n",
       "      <th>address</th>\n",
       "      <th>city</th>\n",
       "      <th>country</th>\n",
       "      <th>distance</th>\n",
       "      <th>lat</th>\n",
       "      <th>lng</th>\n",
       "      <th>state</th>\n",
       "    </tr>\n",
       "  </thead>\n",
       "  <tbody>\n",
       "    <tr>\n",
       "      <th>0</th>\n",
       "      <td>Thousand Pillar Temple</td>\n",
       "      <td>Historic Site</td>\n",
       "      <td>NaN</td>\n",
       "      <td>Hanamkonda</td>\n",
       "      <td>India</td>\n",
       "      <td>387</td>\n",
       "      <td>18.004263</td>\n",
       "      <td>79.574852</td>\n",
       "      <td>Telangana</td>\n",
       "    </tr>\n",
       "    <tr>\n",
       "      <th>1</th>\n",
       "      <td>Sri Tirumala icecream parlour</td>\n",
       "      <td>Ice Cream Shop</td>\n",
       "      <td>hanamkonda chowrastha</td>\n",
       "      <td>wgl</td>\n",
       "      <td>India</td>\n",
       "      <td>75</td>\n",
       "      <td>18.006117</td>\n",
       "      <td>79.570959</td>\n",
       "      <td>Andhra Pradesh</td>\n",
       "    </tr>\n",
       "    <tr>\n",
       "      <th>2</th>\n",
       "      <td>Sri Geeta Bhavan</td>\n",
       "      <td>Restaurant</td>\n",
       "      <td>Hanamkonda Chowrasta</td>\n",
       "      <td>Hanamkonda</td>\n",
       "      <td>India</td>\n",
       "      <td>126</td>\n",
       "      <td>18.006291</td>\n",
       "      <td>79.570493</td>\n",
       "      <td>Telangana</td>\n",
       "    </tr>\n",
       "    <tr>\n",
       "      <th>3</th>\n",
       "      <td>KR &amp; MS reddy complex.</td>\n",
       "      <td>Shopping Mall</td>\n",
       "      <td>Hanamkonda</td>\n",
       "      <td>Warangal</td>\n",
       "      <td>India</td>\n",
       "      <td>182</td>\n",
       "      <td>18.004578</td>\n",
       "      <td>79.570241</td>\n",
       "      <td>Telangana</td>\n",
       "    </tr>\n",
       "  </tbody>\n",
       "</table>\n",
       "</div>"
      ],
      "text/plain": [
       "                            name      categories                address  \\\n",
       "0         Thousand Pillar Temple   Historic Site                    NaN   \n",
       "1  Sri Tirumala icecream parlour  Ice Cream Shop  hanamkonda chowrastha   \n",
       "2               Sri Geeta Bhavan      Restaurant   Hanamkonda Chowrasta   \n",
       "3         KR & MS reddy complex.   Shopping Mall             Hanamkonda   \n",
       "\n",
       "         city country  distance        lat        lng           state  \n",
       "0  Hanamkonda   India       387  18.004263  79.574852       Telangana  \n",
       "1         wgl   India        75  18.006117  79.570959  Andhra Pradesh  \n",
       "2  Hanamkonda   India       126  18.006291  79.570493       Telangana  \n",
       "3    Warangal   India       182  18.004578  79.570241       Telangana  "
      ]
     },
     "execution_count": 9,
     "metadata": {},
     "output_type": "execute_result"
    }
   ],
   "source": [
    "dataframe = json_normalize(items) \n",
    "\n",
    "# Filter columns\n",
    "filtered_columns = ['venue.name', 'venue.categories'] + [col for col in dataframe.columns if col.startswith('venue.location.')] + ['venue.id']\n",
    "dataframe_filtered = dataframe.loc[:, filtered_columns]\n",
    "\n",
    "# Filter the category for each row\n",
    "dataframe_filtered['venue.categories'] = dataframe_filtered.apply(get_category_type, axis=1)\n",
    "\n",
    "# Clean columns\n",
    "dataframe_filtered.columns = [col.split('.')[-1] for col in dataframe_filtered.columns]\n",
    "\n",
    "# Drop unnecessary columns\n",
    "dataframe_filtered = dataframe_filtered.drop([\"labeledLatLngs\", \"id\", \"formattedAddress\", \"cc\"], axis=1)\n",
    "\n",
    "dataframe_filtered.head()"
   ]
  },
  {
   "cell_type": "code",
   "execution_count": 10,
   "metadata": {},
   "outputs": [
    {
     "data": {
      "text/html": [
       "<div style=\"width:100%;\"><div style=\"position:relative;width:100%;height:0;padding-bottom:60%;\"><iframe src=\"about:blank\" style=\"position:absolute;width:100%;height:100%;left:0;top:0;border:none !important;\" data-html=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 onload=\"this.contentDocument.open();this.contentDocument.write(atob(this.getAttribute('data-html')));this.contentDocument.close();\" allowfullscreen webkitallowfullscreen mozallowfullscreen></iframe></div></div>"
      ],
      "text/plain": [
       "<folium.folium.Map at 0x7effae0c0fd0>"
      ]
     },
     "execution_count": 10,
     "metadata": {},
     "output_type": "execute_result"
    }
   ],
   "source": [
    "# Plot places\n",
    "venues_map = folium.Map(location=[latitude, longitude], zoom_start=15) \n",
    "\n",
    "folium.features.CircleMarker(\n",
    "    [latitude, longitude],\n",
    "    radius=10,\n",
    "    popup=\"Hanamkonda Chowarasta, Bangalore\",\n",
    "    fill=True,\n",
    "    color='red',\n",
    "    fill_color='red',\n",
    "    fill_opacity=0.6\n",
    "    ).add_to(venues_map)\n",
    "\n",
    "for lat, lng, label in zip(dataframe_filtered.lat, dataframe_filtered.lng, dataframe_filtered.categories):\n",
    "    folium.features.CircleMarker(\n",
    "        [lat, lng],\n",
    "        radius=5,\n",
    "        popup=label,\n",
    "        fill=True,\n",
    "        color='blue',\n",
    "        fill_color='gray',\n",
    "        fill_opacity=0.6\n",
    "        ).add_to(venues_map)\n",
    "\n",
    "venues_map"
   ]
  },
  {
   "cell_type": "markdown",
   "metadata": {},
   "source": [
    "Dataset: https://www.kaggle.com/amitabhajoy/bengaluru-house-price-data"
   ]
  },
  {
   "cell_type": "code",
   "execution_count": 13,
   "metadata": {},
   "outputs": [
    {
     "data": {
      "text/html": [
       "<div>\n",
       "<style scoped>\n",
       "    .dataframe tbody tr th:only-of-type {\n",
       "        vertical-align: middle;\n",
       "    }\n",
       "\n",
       "    .dataframe tbody tr th {\n",
       "        vertical-align: top;\n",
       "    }\n",
       "\n",
       "    .dataframe thead th {\n",
       "        text-align: right;\n",
       "    }\n",
       "</style>\n",
       "<table border=\"1\" class=\"dataframe\">\n",
       "  <thead>\n",
       "    <tr style=\"text-align: right;\">\n",
       "      <th></th>\n",
       "      <th>area_type</th>\n",
       "      <th>availability</th>\n",
       "      <th>location</th>\n",
       "      <th>size</th>\n",
       "      <th>society</th>\n",
       "      <th>total_sqft</th>\n",
       "      <th>bath</th>\n",
       "      <th>balcony</th>\n",
       "      <th>price</th>\n",
       "    </tr>\n",
       "  </thead>\n",
       "  <tbody>\n",
       "    <tr>\n",
       "      <th>0</th>\n",
       "      <td>Super built-up  Area</td>\n",
       "      <td>19-Dec</td>\n",
       "      <td>Electronic City Phase II</td>\n",
       "      <td>2 BHK</td>\n",
       "      <td>Coomee</td>\n",
       "      <td>1056</td>\n",
       "      <td>2.0</td>\n",
       "      <td>1.0</td>\n",
       "      <td>39.07</td>\n",
       "    </tr>\n",
       "    <tr>\n",
       "      <th>1</th>\n",
       "      <td>Plot  Area</td>\n",
       "      <td>Ready To Move</td>\n",
       "      <td>Chikka Tirupathi</td>\n",
       "      <td>4 Bedroom</td>\n",
       "      <td>Theanmp</td>\n",
       "      <td>2600</td>\n",
       "      <td>5.0</td>\n",
       "      <td>3.0</td>\n",
       "      <td>120.00</td>\n",
       "    </tr>\n",
       "    <tr>\n",
       "      <th>2</th>\n",
       "      <td>Built-up  Area</td>\n",
       "      <td>Ready To Move</td>\n",
       "      <td>Uttarahalli</td>\n",
       "      <td>3 BHK</td>\n",
       "      <td>NaN</td>\n",
       "      <td>1440</td>\n",
       "      <td>2.0</td>\n",
       "      <td>3.0</td>\n",
       "      <td>62.00</td>\n",
       "    </tr>\n",
       "  </tbody>\n",
       "</table>\n",
       "</div>"
      ],
      "text/plain": [
       "              area_type   availability                  location       size  \\\n",
       "0  Super built-up  Area         19-Dec  Electronic City Phase II      2 BHK   \n",
       "1            Plot  Area  Ready To Move          Chikka Tirupathi  4 Bedroom   \n",
       "2        Built-up  Area  Ready To Move               Uttarahalli      3 BHK   \n",
       "\n",
       "   society total_sqft  bath  balcony   price  \n",
       "0  Coomee        1056   2.0      1.0   39.07  \n",
       "1  Theanmp       2600   5.0      3.0  120.00  \n",
       "2      NaN       1440   2.0      3.0   62.00  "
      ]
     },
     "execution_count": 13,
     "metadata": {},
     "output_type": "execute_result"
    }
   ],
   "source": [
    "# Get data and create the dataframe\n",
    "import types\n",
    "import pandas as pd\n",
    "from botocore.client import Config\n",
    "import ibm_boto3\n",
    "\n",
    "def __iter__(self): return 0\n",
    "\n",
    "@hidden_cell\n",
    "# The following code accesses a file in your IBM Cloud Object Storage. It includes your credentials.\n",
    "# You might want to remove those credentials before you share the notebook.\n",
    "client_e2ac6a322aca43d48c951cbdec7bf59f = ibm_boto3.client(service_name='s3',\n",
    "    ibm_api_key_id='UT6hosT60thyrSU2Rw7tXluJAtVyl2Q3yyWSgBtxiA9I',\n",
    "    ibm_auth_endpoint=\"https://iam.ng.bluemix.net/oidc/token\",\n",
    "    config=Config(signature_version='oauth'),\n",
    "    endpoint_url='https://s3-api.us-geo.objectstorage.service.networklayer.com')\n",
    "\n",
    "body = client_e2ac6a322aca43d48c951cbdec7bf59f.get_object(Bucket='capstoneproject-donotdelete-pr-cxqfpflphldt58',Key='Bengaluru_House_Data.csv')['Body']\n",
    "# add missing __iter__ method, so pandas accepts body as file-like object\n",
    "if not hasattr(body, \"__iter__\"): body.__iter__ = types.MethodType( __iter__, body )\n",
    "\n",
    "# If you are reading an Excel file into a pandas DataFrame, replace `read_csv` by `read_excel` in the next statement.\n",
    "bangalore = pd.read_csv(body)\n",
    "bangalore.head(3)"
   ]
  },
  {
   "cell_type": "code",
   "execution_count": 14,
   "metadata": {},
   "outputs": [
    {
     "data": {
      "text/plain": [
       "13320"
      ]
     },
     "execution_count": 14,
     "metadata": {},
     "output_type": "execute_result"
    }
   ],
   "source": [
    "# Initial rows\n",
    "bangalore[\"price\"].count()"
   ]
  },
  {
   "cell_type": "code",
   "execution_count": 15,
   "metadata": {},
   "outputs": [],
   "source": [
    "def initial_eda(bangalore):\n",
    "  if isinstance(bangalore, pd.DataFrame):\n",
    "    total_na = bangalore.isna().sum().sum()\n",
    "    print(\"Dimesions: %d rows, %d columns\" % (bangalore.shape[0], bangalore.shape[1]))\n",
    "    print(\"%38s %10s  %10s %10s\" % (\"Column name\", \"Data Type\", \"#Distinct\", \"NA Values\"))\n",
    "    col_name = bangalore.columns\n",
    "    dtyp = bangalore.dtypes\n",
    "    uniq = bangalore.nunique()\n",
    "    nan_val = bangalore.isna().sum()\n",
    "    for i in range(len(bangalore.columns)):\n",
    "      print(\"%38s %10s  %10s %10s\" % (col_name[i], dtyp[i], uniq[i], nan_val[i]))\n",
    "    else:\n",
    "      print(\"Expect a DF but got a %15s\" % (type(bangalore)))"
   ]
  },
  {
   "cell_type": "code",
   "execution_count": 16,
   "metadata": {},
   "outputs": [
    {
     "name": "stdout",
     "output_type": "stream",
     "text": [
      "Dimesions: 13320 rows, 9 columns\n",
      "                           Column name  Data Type   #Distinct  NA Values\n",
      "                             area_type     object           4          0\n",
      "                          availability     object          81          0\n",
      "                              location     object        1305          1\n",
      "                                  size     object          31         16\n",
      "                               society     object        2688       5502\n",
      "                            total_sqft     object        2117          0\n",
      "                                  bath    float64          19         73\n",
      "                               balcony    float64           4        609\n",
      "                                 price    float64        1994          0\n",
      "Expect a DF but got a <class 'pandas.core.frame.DataFrame'>\n"
     ]
    }
   ],
   "source": [
    "# Empty values \n",
    "initial_eda(bangalore)"
   ]
  },
  {
   "cell_type": "code",
   "execution_count": 17,
   "metadata": {},
   "outputs": [
    {
     "name": "stdout",
     "output_type": "stream",
     "text": [
      "Dimesions: 7496 rows, 9 columns\n",
      "                           Column name  Data Type   #Distinct  NA Values\n",
      "                             area_type     object           4          0\n",
      "                          availability     object          74          0\n",
      "                              location     object         634          0\n",
      "                                  size     object          15          0\n",
      "                               society     object        2592          0\n",
      "                            total_sqft     object        1682          0\n",
      "                                  bath    float64           8          0\n",
      "                               balcony    float64           4          0\n",
      "                                 price    float64        1518          0\n",
      "Expect a DF but got a <class 'pandas.core.frame.DataFrame'>\n"
     ]
    }
   ],
   "source": [
    "# Remove rows with empty values\n",
    "bangalore.dropna(axis=0, inplace=True)\n",
    "initial_eda(bangalore)"
   ]
  },
  {
   "cell_type": "code",
   "execution_count": 18,
   "metadata": {},
   "outputs": [
    {
     "name": "stdout",
     "output_type": "stream",
     "text": [
      "Count: 7496\n"
     ]
    }
   ],
   "source": [
    "# Remaining rows\n",
    "count = bangalore['location'].count()\n",
    "print(\"Count:\",count)"
   ]
  },
  {
   "cell_type": "code",
   "execution_count": 19,
   "metadata": {},
   "outputs": [
    {
     "data": {
      "text/plain": [
       "<seaborn.axisgrid.PairGrid at 0x7effae003208>"
      ]
     },
     "execution_count": 19,
     "metadata": {},
     "output_type": "execute_result"
    },
    {
     "data": {
      "image/png": "[encoded data removed]",
      "text/plain": [
       "<Figure size 540x540 with 12 Axes>"
      ]
     },
     "metadata": {
      "needs_background": "light"
     },
     "output_type": "display_data"
    }
   ],
   "source": [
    "# Barplots and histograms\n",
    "sns.pairplot(bangalore)\n",
    "# plt.savefig(\"pairplot\")"
   ]
  },
  {
   "cell_type": "code",
   "execution_count": 20,
   "metadata": {},
   "outputs": [
    {
     "data": {
      "text/plain": [
       "Text(0.5, 1.0, 'Heatmap - Pearson Correlation Coefficients')"
      ]
     },
     "execution_count": 20,
     "metadata": {},
     "output_type": "execute_result"
    },
    {
     "data": {
      "image/png": "[encoded data removed]",
      "text/plain": [
       "<Figure size 648x648 with 2 Axes>"
      ]
     },
     "metadata": {
      "needs_background": "light"
     },
     "output_type": "display_data"
    }
   ],
   "source": [
    "# Pearson correlation coefficients\n",
    "plt.figure(figsize=(9,9))\n",
    "sns.heatmap(bangalore.corr(), cmap='RdYlGn_r', linewidths=0.5, annot=True)\n",
    "plt.title(\"Heatmap - Pearson Correlation Coefficients\")\n",
    "# plt.savefig(\"Heatmap\")"
   ]
  },
  {
   "cell_type": "code",
   "execution_count": 21,
   "metadata": {},
   "outputs": [
    {
     "data": {
      "text/plain": [
       "size\n",
       "1 BHK         353\n",
       "1 RK           10\n",
       "11 BHK          1\n",
       "2 BHK        3411\n",
       "2 Bedroom      16\n",
       "3 BHK        3012\n",
       "3 Bedroom     120\n",
       "4 BHK         347\n",
       "4 Bedroom     193\n",
       "5 BHK           9\n",
       "5 Bedroom      16\n",
       "6 BHK           3\n",
       "6 Bedroom       3\n",
       "7 BHK           1\n",
       "9 BHK           1\n",
       "Name: price, dtype: int64"
      ]
     },
     "execution_count": 21,
     "metadata": {},
     "output_type": "execute_result"
    }
   ],
   "source": [
    "# House sizes count\n",
    "var = bangalore.groupby(\"size\").price.count()\n",
    "var"
   ]
  },
  {
   "cell_type": "code",
   "execution_count": 22,
   "metadata": {},
   "outputs": [
    {
     "data": {
      "text/plain": [
       "Text(0.5, 1.0, 'Area type count')"
      ]
     },
     "execution_count": 22,
     "metadata": {},
     "output_type": "execute_result"
    },
    {
     "data": {
      "image/png": "[encoded data removed]",
      "text/plain": [
       "<Figure size 360x360 with 1 Axes>"
      ]
     },
     "metadata": {
      "needs_background": "light"
     },
     "output_type": "display_data"
    }
   ],
   "source": [
    "# Area type variable\n",
    "sns.catplot(x=\"area_type\", kind=\"count\", palette=\"ch:.25\", data=bangalore);\n",
    "plt.title(\"Area type count\")"
   ]
  },
  {
   "cell_type": "code",
   "execution_count": 23,
   "metadata": {},
   "outputs": [
    {
     "data": {
      "text/plain": [
       "Text(0.5, 1.0, 'Boxplots price and area type')"
      ]
     },
     "execution_count": 23,
     "metadata": {},
     "output_type": "execute_result"
    },
    {
     "data": {
      "image/png": "[encoded data removed]",
      "text/plain": [
       "<Figure size 360x360 with 1 Axes>"
      ]
     },
     "metadata": {
      "needs_background": "light"
     },
     "output_type": "display_data"
    }
   ],
   "source": [
    "# Boxplots, prices by area types\n",
    "sns.catplot(x=\"area_type\", y=\"price\", kind=\"box\", data=bangalore)\n",
    "plt.title(\"Boxplots price and area type\")"
   ]
  },
  {
   "cell_type": "code",
   "execution_count": 24,
   "metadata": {},
   "outputs": [
    {
     "data": {
      "text/html": [
       "<div>\n",
       "<style scoped>\n",
       "    .dataframe tbody tr th:only-of-type {\n",
       "        vertical-align: middle;\n",
       "    }\n",
       "\n",
       "    .dataframe tbody tr th {\n",
       "        vertical-align: top;\n",
       "    }\n",
       "\n",
       "    .dataframe thead th {\n",
       "        text-align: right;\n",
       "    }\n",
       "</style>\n",
       "<table border=\"1\" class=\"dataframe\">\n",
       "  <thead>\n",
       "    <tr style=\"text-align: right;\">\n",
       "      <th></th>\n",
       "      <th>bath</th>\n",
       "      <th>balcony</th>\n",
       "      <th>price</th>\n",
       "    </tr>\n",
       "  </thead>\n",
       "  <tbody>\n",
       "    <tr>\n",
       "      <th>count</th>\n",
       "      <td>7496.000000</td>\n",
       "      <td>7496.000000</td>\n",
       "      <td>7496.000000</td>\n",
       "    </tr>\n",
       "    <tr>\n",
       "      <th>mean</th>\n",
       "      <td>2.458378</td>\n",
       "      <td>1.629936</td>\n",
       "      <td>96.857122</td>\n",
       "    </tr>\n",
       "    <tr>\n",
       "      <th>std</th>\n",
       "      <td>0.881128</td>\n",
       "      <td>0.780127</td>\n",
       "      <td>105.382490</td>\n",
       "    </tr>\n",
       "    <tr>\n",
       "      <th>min</th>\n",
       "      <td>1.000000</td>\n",
       "      <td>0.000000</td>\n",
       "      <td>8.000000</td>\n",
       "    </tr>\n",
       "    <tr>\n",
       "      <th>25%</th>\n",
       "      <td>2.000000</td>\n",
       "      <td>1.000000</td>\n",
       "      <td>49.500000</td>\n",
       "    </tr>\n",
       "    <tr>\n",
       "      <th>50%</th>\n",
       "      <td>2.000000</td>\n",
       "      <td>2.000000</td>\n",
       "      <td>69.755000</td>\n",
       "    </tr>\n",
       "    <tr>\n",
       "      <th>75%</th>\n",
       "      <td>3.000000</td>\n",
       "      <td>2.000000</td>\n",
       "      <td>105.000000</td>\n",
       "    </tr>\n",
       "    <tr>\n",
       "      <th>max</th>\n",
       "      <td>9.000000</td>\n",
       "      <td>3.000000</td>\n",
       "      <td>2700.000000</td>\n",
       "    </tr>\n",
       "  </tbody>\n",
       "</table>\n",
       "</div>"
      ],
      "text/plain": [
       "              bath      balcony        price\n",
       "count  7496.000000  7496.000000  7496.000000\n",
       "mean      2.458378     1.629936    96.857122\n",
       "std       0.881128     0.780127   105.382490\n",
       "min       1.000000     0.000000     8.000000\n",
       "25%       2.000000     1.000000    49.500000\n",
       "50%       2.000000     2.000000    69.755000\n",
       "75%       3.000000     2.000000   105.000000\n",
       "max       9.000000     3.000000  2700.000000"
      ]
     },
     "execution_count": 24,
     "metadata": {},
     "output_type": "execute_result"
    }
   ],
   "source": [
    "bangalore.describe(include=['float'])"
   ]
  },
  {
   "cell_type": "code",
   "execution_count": 25,
   "metadata": {},
   "outputs": [
    {
     "data": {
      "text/html": [
       "<div>\n",
       "<style scoped>\n",
       "    .dataframe tbody tr th:only-of-type {\n",
       "        vertical-align: middle;\n",
       "    }\n",
       "\n",
       "    .dataframe tbody tr th {\n",
       "        vertical-align: top;\n",
       "    }\n",
       "\n",
       "    .dataframe thead th {\n",
       "        text-align: right;\n",
       "    }\n",
       "</style>\n",
       "<table border=\"1\" class=\"dataframe\">\n",
       "  <thead>\n",
       "    <tr style=\"text-align: right;\">\n",
       "      <th></th>\n",
       "      <th>area_type</th>\n",
       "      <th>availability</th>\n",
       "      <th>location</th>\n",
       "      <th>size</th>\n",
       "      <th>society</th>\n",
       "      <th>total_sqft</th>\n",
       "    </tr>\n",
       "  </thead>\n",
       "  <tbody>\n",
       "    <tr>\n",
       "      <th>count</th>\n",
       "      <td>7496</td>\n",
       "      <td>7496</td>\n",
       "      <td>7496</td>\n",
       "      <td>7496</td>\n",
       "      <td>7496</td>\n",
       "      <td>7496</td>\n",
       "    </tr>\n",
       "    <tr>\n",
       "      <th>unique</th>\n",
       "      <td>4</td>\n",
       "      <td>74</td>\n",
       "      <td>634</td>\n",
       "      <td>15</td>\n",
       "      <td>2592</td>\n",
       "      <td>1682</td>\n",
       "    </tr>\n",
       "    <tr>\n",
       "      <th>top</th>\n",
       "      <td>Super built-up  Area</td>\n",
       "      <td>Ready To Move</td>\n",
       "      <td>Whitefield</td>\n",
       "      <td>2 BHK</td>\n",
       "      <td>GrrvaGr</td>\n",
       "      <td>1200</td>\n",
       "    </tr>\n",
       "    <tr>\n",
       "      <th>freq</th>\n",
       "      <td>6017</td>\n",
       "      <td>5709</td>\n",
       "      <td>397</td>\n",
       "      <td>3411</td>\n",
       "      <td>80</td>\n",
       "      <td>172</td>\n",
       "    </tr>\n",
       "  </tbody>\n",
       "</table>\n",
       "</div>"
      ],
      "text/plain": [
       "                   area_type   availability    location   size  society  \\\n",
       "count                   7496           7496        7496   7496     7496   \n",
       "unique                     4             74         634     15     2592   \n",
       "top     Super built-up  Area  Ready To Move  Whitefield  2 BHK  GrrvaGr   \n",
       "freq                    6017           5709         397   3411       80   \n",
       "\n",
       "       total_sqft  \n",
       "count        7496  \n",
       "unique       1682  \n",
       "top          1200  \n",
       "freq          172  "
      ]
     },
     "execution_count": 25,
     "metadata": {},
     "output_type": "execute_result"
    }
   ],
   "source": [
    "bangalore.describe(include=['object'])"
   ]
  },
  {
   "cell_type": "code",
   "execution_count": 26,
   "metadata": {},
   "outputs": [
    {
     "data": {
      "text/html": [
       "<div>\n",
       "<style scoped>\n",
       "    .dataframe tbody tr th:only-of-type {\n",
       "        vertical-align: middle;\n",
       "    }\n",
       "\n",
       "    .dataframe tbody tr th {\n",
       "        vertical-align: top;\n",
       "    }\n",
       "\n",
       "    .dataframe thead th {\n",
       "        text-align: right;\n",
       "    }\n",
       "</style>\n",
       "<table border=\"1\" class=\"dataframe\">\n",
       "  <thead>\n",
       "    <tr style=\"text-align: right;\">\n",
       "      <th></th>\n",
       "      <th>area_type</th>\n",
       "      <th>availability</th>\n",
       "      <th>location</th>\n",
       "      <th>size</th>\n",
       "      <th>society</th>\n",
       "      <th>total_sqft</th>\n",
       "      <th>bath</th>\n",
       "      <th>balcony</th>\n",
       "    </tr>\n",
       "  </thead>\n",
       "  <tbody>\n",
       "    <tr>\n",
       "      <th>0</th>\n",
       "      <td>Super built-up  Area</td>\n",
       "      <td>19-Dec</td>\n",
       "      <td>Electronic City Phase II</td>\n",
       "      <td>2 BHK</td>\n",
       "      <td>Coomee</td>\n",
       "      <td>1056</td>\n",
       "      <td>2.0</td>\n",
       "      <td>1.0</td>\n",
       "    </tr>\n",
       "    <tr>\n",
       "      <th>1</th>\n",
       "      <td>Plot  Area</td>\n",
       "      <td>Ready To Move</td>\n",
       "      <td>Chikka Tirupathi</td>\n",
       "      <td>4 Bedroom</td>\n",
       "      <td>Theanmp</td>\n",
       "      <td>2600</td>\n",
       "      <td>5.0</td>\n",
       "      <td>3.0</td>\n",
       "    </tr>\n",
       "    <tr>\n",
       "      <th>3</th>\n",
       "      <td>Super built-up  Area</td>\n",
       "      <td>Ready To Move</td>\n",
       "      <td>Lingadheeranahalli</td>\n",
       "      <td>3 BHK</td>\n",
       "      <td>Soiewre</td>\n",
       "      <td>1521</td>\n",
       "      <td>3.0</td>\n",
       "      <td>1.0</td>\n",
       "    </tr>\n",
       "  </tbody>\n",
       "</table>\n",
       "</div>"
      ],
      "text/plain": [
       "              area_type   availability                  location       size  \\\n",
       "0  Super built-up  Area         19-Dec  Electronic City Phase II      2 BHK   \n",
       "1            Plot  Area  Ready To Move          Chikka Tirupathi  4 Bedroom   \n",
       "3  Super built-up  Area  Ready To Move        Lingadheeranahalli      3 BHK   \n",
       "\n",
       "   society total_sqft  bath  balcony  \n",
       "0  Coomee        1056   2.0      1.0  \n",
       "1  Theanmp       2600   5.0      3.0  \n",
       "3  Soiewre       1521   3.0      1.0  "
      ]
     },
     "execution_count": 26,
     "metadata": {},
     "output_type": "execute_result"
    }
   ],
   "source": [
    "# Features\n",
    "x = bangalore.drop(['price'], axis=1)\n",
    "x[0:3]"
   ]
  },
  {
   "cell_type": "code",
   "execution_count": 27,
   "metadata": {},
   "outputs": [
    {
     "data": {
      "text/plain": [
       "0     39.07\n",
       "1    120.00\n",
       "3     95.00\n",
       "Name: price, dtype: float64"
      ]
     },
     "execution_count": 27,
     "metadata": {},
     "output_type": "execute_result"
    }
   ],
   "source": [
    "# Target\n",
    "y = bangalore['price']\n",
    "y[0:3]"
   ]
  },
  {
   "cell_type": "code",
   "execution_count": 28,
   "metadata": {},
   "outputs": [
    {
     "name": "stdout",
     "output_type": "stream",
     "text": [
      "Train set: (5247, 8) (5247,)\n",
      "Test set: (2249, 8) (2249,)\n"
     ]
    }
   ],
   "source": [
    "# Train_test_split \n",
    "x_train, x_test, y_train, y_test = train_test_split(x, y, test_size = 0.3, random_state = 0)\n",
    "\n",
    "print('Train set:', x_train.shape,  y_train.shape)\n",
    "print('Test set:', x_test.shape,  y_test.shape)"
   ]
  },
  {
   "cell_type": "code",
   "execution_count": 29,
   "metadata": {},
   "outputs": [
    {
     "data": {
      "text/plain": [
       "['area_type', 'availability', 'location', 'size', 'society', 'total_sqft']"
      ]
     },
     "execution_count": 29,
     "metadata": {},
     "output_type": "execute_result"
    }
   ],
   "source": [
    "# Categorical variables\n",
    "cats = [ftr for ftr in x_train.columns if x_train[ftr].dtypes == 'O']\n",
    "cats"
   ]
  },
  {
   "cell_type": "code",
   "execution_count": 30,
   "metadata": {},
   "outputs": [],
   "source": [
    "# One Hot Encoder\n",
    "enc_onehot = ce.OneHotEncoder(cols=cats)\n",
    "\n",
    "x_train = enc_onehot.fit_transform(x_train)\n",
    "x_test = enc_onehot.transform(x_test)"
   ]
  },
  {
   "cell_type": "code",
   "execution_count": 31,
   "metadata": {},
   "outputs": [],
   "source": [
    "# Plot function\n",
    "def DistributionPlot(RedFunction, BlueFunction, RedName, BlueName, Title):\n",
    "    width = 12\n",
    "    height = 7\n",
    "    plt.figure(figsize=(width, height))\n",
    "\n",
    "    ax1 = sns.distplot(RedFunction, hist=False, color=\"r\", label=RedName)\n",
    "    ax2 = sns.distplot(BlueFunction, hist=False, color=\"b\", label=BlueName, ax=ax1)\n",
    "\n",
    "    plt.title(Title)\n",
    "    plt.xlabel('Price')\n",
    "\n",
    "    plt.show()\n",
    "    plt.close()"
   ]
  },
  {
   "cell_type": "code",
   "execution_count": 32,
   "metadata": {},
   "outputs": [
    {
     "name": "stderr",
     "output_type": "stream",
     "text": [
      "/opt/conda/envs/Python36/lib/python3.6/site-packages/sklearn/ensemble/forest.py:246: FutureWarning: The default value of n_estimators will change from 10 in version 0.20 to 100 in 0.22.\n",
      "  \"10 in version 0.20 to 100 in 0.22.\", FutureWarning)\n"
     ]
    }
   ],
   "source": [
    "# Random Forest\n",
    "model = RandomForestRegressor()\n",
    "model.fit(x_train, y_train)\n",
    "y_train_hat = model.predict(x_test)\n",
    "y_test_hat = model.predict(x_test)"
   ]
  },
  {
   "cell_type": "code",
   "execution_count": 33,
   "metadata": {},
   "outputs": [
    {
     "name": "stdout",
     "output_type": "stream",
     "text": [
      "Mean absolute error: 22.50\n",
      "Residual sum of squares (MSE): 4277.01\n",
      "R2-score: 0.0814\n"
     ]
    }
   ],
   "source": [
    "# Evaluation\n",
    "print(\"Mean absolute error: %.2f\" % np.mean(np.absolute(y_test_hat - y_test)))\n",
    "print(\"Residual sum of squares (MSE): %.2f\" % np.mean((y_test_hat - y_test)**2))\n",
    "r2_rf = r2_score(y_test_hat, y_test)\n",
    "print(\"R2-score: %.4f\" % r2_rf)"
   ]
  },
  {
   "cell_type": "code",
   "execution_count": 34,
   "metadata": {},
   "outputs": [
    {
     "data": {
      "image/png": "[encoded data removed]",
      "text/plain": [
       "<Figure size 864x504 with 1 Axes>"
      ]
     },
     "metadata": {
      "needs_background": "light"
     },
     "output_type": "display_data"
    }
   ],
   "source": [
    "Title = 'Distribution Plot of Predicted Value Using Training Data vs Training Data Distribution'\n",
    "DistributionPlot(y_train, y_train_hat, \"Actual Values (Train)\", \"Predicted Values (Train)\", Title)"
   ]
  },
  {
   "cell_type": "code",
   "execution_count": 35,
   "metadata": {},
   "outputs": [],
   "source": [
    "# XGBoost \n",
    "model = XGBRegressor()\n",
    "model.fit(x_train, y_train)\n",
    "y_train_hat = model.predict(x_test)\n",
    "y_test_hat = model.predict(x_test)"
   ]
  },
  {
   "cell_type": "code",
   "execution_count": 36,
   "metadata": {},
   "outputs": [
    {
     "name": "stdout",
     "output_type": "stream",
     "text": [
      "Mean absolute error: 26.24\n",
      "Residual sum of squares (MSE): 4095.41\n",
      "R2-score: 0.2862\n"
     ]
    }
   ],
   "source": [
    "# Evaluation\n",
    "print(\"Mean absolute error: %.2f\" % np.mean(np.absolute(y_test_hat - y_test)))\n",
    "print(\"Residual sum of squares (MSE): %.2f\" % np.mean((y_test_hat - y_test)**2))\n",
    "r2_xgb = r2_score(y_test_hat, y_test)\n",
    "print(\"R2-score: %.4f\" % r2_xgb)"
   ]
  },
  {
   "cell_type": "code",
   "execution_count": 37,
   "metadata": {},
   "outputs": [
    {
     "data": {
      "image/png": "[encoded data removed]",
      "text/plain": [
       "<Figure size 864x504 with 1 Axes>"
      ]
     },
     "metadata": {
      "needs_background": "light"
     },
     "output_type": "display_data"
    }
   ],
   "source": [
    "DistributionPlot(y_train, y_train_hat, \"Actual Values (Train)\", \"Predicted Values (Train)\", Title)"
   ]
  },
  {
   "cell_type": "code",
   "execution_count": 38,
   "metadata": {},
   "outputs": [],
   "source": [
    "# Gradient Boosting\n",
    "model = GradientBoostingRegressor()\n",
    "model.fit(x_train, y_train)\n",
    "y_train_hat = model.predict(x_test)\n",
    "y_test_hat = model.predict(x_test)"
   ]
  },
  {
   "cell_type": "code",
   "execution_count": 39,
   "metadata": {},
   "outputs": [
    {
     "name": "stdout",
     "output_type": "stream",
     "text": [
      "Mean absolute error: 32.14\n",
      "Residual sum of squares (MSE): 4945.79\n",
      "R2-score: -0.1315\n"
     ]
    }
   ],
   "source": [
    "# Evaluation\n",
    "print(\"Mean absolute error: %.2f\" % np.mean(np.absolute(y_test_hat - y_test)))\n",
    "print(\"Residual sum of squares (MSE): %.2f\" % np.mean((y_test_hat - y_test)**2))\n",
    "r2_grb = r2_score(y_test_hat, y_test)\n",
    "print(\"R2-score: %.4f\" % r2_grb)"
   ]
  },
  {
   "cell_type": "code",
   "execution_count": 40,
   "metadata": {},
   "outputs": [
    {
     "data": {
      "image/png": "[encoded data removed]",
      "text/plain": [
       "<Figure size 864x504 with 1 Axes>"
      ]
     },
     "metadata": {
      "needs_background": "light"
     },
     "output_type": "display_data"
    }
   ],
   "source": [
    "DistributionPlot(y_train, y_train_hat, \"Actual Values (Train)\", \"Predicted Values (Train)\", Title)"
   ]
  },
  {
   "cell_type": "code",
   "execution_count": 41,
   "metadata": {},
   "outputs": [],
   "source": [
    "# Lasso Regression \n",
    "model = Lasso()\n",
    "model.fit(x_train, y_train)\n",
    "y_train_hat = model.predict(x_test)\n",
    "y_test_hat = model.predict(x_test)"
   ]
  },
  {
   "cell_type": "code",
   "execution_count": 42,
   "metadata": {},
   "outputs": [
    {
     "name": "stdout",
     "output_type": "stream",
     "text": [
      "Mean absolute error: 35.60\n",
      "Residual sum of squares (MSE): 6026.51\n",
      "R2-score: -0.4364\n"
     ]
    }
   ],
   "source": [
    "# Evaluation\n",
    "print(\"Mean absolute error: %.2f\" % np.mean(np.absolute(y_test_hat - y_test)))\n",
    "print(\"Residual sum of squares (MSE): %.2f\" % np.mean((y_test_hat - y_test)**2))\n",
    "r2_lasso = r2_score(y_test_hat, y_test)\n",
    "print(\"R2-score: %.4f\" % r2_lasso)"
   ]
  },
  {
   "cell_type": "code",
   "execution_count": 43,
   "metadata": {},
   "outputs": [
    {
     "data": {
      "image/png": "[encoded data removed]",
      "text/plain": [
       "<Figure size 864x504 with 1 Axes>"
      ]
     },
     "metadata": {
      "needs_background": "light"
     },
     "output_type": "display_data"
    }
   ],
   "source": [
    "DistributionPlot(y_train, y_train_hat, \"Actual Values (Train)\", \"Predicted Values (Train)\", Title)"
   ]
  },
  {
   "cell_type": "code",
   "execution_count": 44,
   "metadata": {},
   "outputs": [],
   "source": [
    "# Ridge Regression \n",
    "model = Ridge()\n",
    "model.fit(x_train, y_train)\n",
    "y_train_hat = model.predict(x_test)\n",
    "y_test_hat = model.predict(x_test)"
   ]
  },
  {
   "cell_type": "code",
   "execution_count": 45,
   "metadata": {},
   "outputs": [
    {
     "name": "stdout",
     "output_type": "stream",
     "text": [
      "Mean absolute error: 21.95\n",
      "Residual sum of squares (MSE): 3471.91\n",
      "R2-score: 0.4165\n"
     ]
    }
   ],
   "source": [
    "# Evaluation\n",
    "print(\"Mean absolute error: %.2f\" % np.mean(np.absolute(y_test_hat - y_test)))\n",
    "print(\"Residual sum of squares (MSE): %.2f\" % np.mean((y_test_hat - y_test)**2))\n",
    "r2_ridge = r2_score(y_test_hat, y_test)\n",
    "print(\"R2-score: %.4f\" % r2_ridge)"
   ]
  },
  {
   "cell_type": "code",
   "execution_count": 46,
   "metadata": {},
   "outputs": [
    {
     "data": {
      "image/png": "[encoded data removed]",
      "text/plain": [
       "<Figure size 864x504 with 1 Axes>"
      ]
     },
     "metadata": {
      "needs_background": "light"
     },
     "output_type": "display_data"
    }
   ],
   "source": [
    "DistributionPlot(y_train, y_train_hat, \"Actual Values (Train)\", \"Predicted Values (Train)\", Title)"
   ]
  },
  {
   "cell_type": "code",
   "execution_count": 47,
   "metadata": {},
   "outputs": [
    {
     "name": "stdout",
     "output_type": "stream",
     "text": [
      "Random Forest r^2-score: 0.0814\n",
      "XGBoost r^2-score: 0.2862\n",
      "Gradient Boosting r^2-score: -0.1315\n",
      "Lasso Regression r^2-score: -0.4364\n",
      "Ridge Regression r^2-score: 0.4165\n"
     ]
    }
   ],
   "source": [
    "# R^2 scores\n",
    "print(\"Random Forest r^2-score: %.4f\" % r2_rf)\n",
    "print(\"XGBoost r^2-score: %.4f\" % r2_xgb)\n",
    "print(\"Gradient Boosting r^2-score: %.4f\" % r2_grb)\n",
    "print(\"Lasso Regression r^2-score: %.4f\" % r2_lasso)\n",
    "print(\"Ridge Regression r^2-score: %.4f\" % r2_ridge)"
   ]
  },
  {
   "cell_type": "markdown",
   "metadata": {},
   "source": [
    "   "
   ]
  },
  {
   "cell_type": "markdown",
   "metadata": {},
   "source": [
    "**Thanks for reading!**"
   ]
  }
 ],
 "metadata": {
  "kernelspec": {
   "display_name": "Python 3.6",
   "language": "python",
   "name": "python3"
  },
  "language_info": {
   "codemirror_mode": {
    "name": "ipython",
    "version": 3
   },
   "file_extension": ".py",
   "mimetype": "text/x-python",
   "name": "python",
   "nbconvert_exporter": "python",
   "pygments_lexer": "ipython3",
   "version": "3.6.9"
  }
 },
 "nbformat": 4,
 "nbformat_minor": 4
}
